{
 "cells": [
  {
   "cell_type": "markdown",
   "metadata": {},
   "source": [
    "### Implementing Min-Heap in Python:"
   ]
  },
  {
   "cell_type": "code",
   "execution_count": 1,
   "metadata": {},
   "outputs": [
    {
     "name": "stdout",
     "output_type": "stream",
     "text": [
      "Deleted: 2\n",
      "Deleted: 3\n",
      "Deleted: 5\n",
      "Deleted: 3\n"
     ]
    }
   ],
   "source": [
    "class BinaryHeap(object):\n",
    "    def __init__(self):\n",
    "        self.heap = [0]\n",
    "        self.currentSize = 0\n",
    "\n",
    "    # for shifting the node up\n",
    "    def shiftUp(self, index):\n",
    "        while (index // 2) > 0:\n",
    "            if self.heap[index] < self.heap[index // 2]:     # (currentSize // 2) is the parent \n",
    "                temp = self.heap[index // 2]\n",
    "                self.heap[index // 2] = self.heap[index]\n",
    "                self.heap[index] = temp\n",
    "            index = index // 2\n",
    "\n",
    "    # to insert a node in the heap\n",
    "    def insert(self, key):\n",
    "        self.heap.append(key)\n",
    "        self.currentSize += 1\n",
    "        self.shiftUp(self.currentSize)\n",
    "\n",
    "    # for shifting down a node\n",
    "    def shiftDown(self, index):\n",
    "        while(index * 2) <= self.currentSize:\n",
    "            minimumChild = self.minChild(index)\n",
    "            if self.heap[index] > self.heap[minimumChild]:\n",
    "                temp = self.heap[index]\n",
    "                self.heap[index] = self.heap[minimumChild]\n",
    "                self.heap[minimumChild] = temp\n",
    "            index = minimumChild\n",
    "        \n",
    "    # for finding the child with minimum value\n",
    "    def minChild(self,i):\n",
    "        if i * 2 + 1 > self.currentSize:\n",
    "            return i * 2\n",
    "        else:\n",
    "            if self.heap[i * 2] < self.heap[i * 2 + 1]:\n",
    "                return i * 2\n",
    "            else:\n",
    "                return i * 2 + 1\n",
    "        \n",
    "    # for deleting a node from the heap and maintaining the heap property\n",
    "    def delete(self):\n",
    "        deletedNode = self.heap[1]\n",
    "        self.heap[1] = self.heap[self.currentSize]\n",
    "        self.currentSize -= 1\n",
    "        self.heap.pop()\n",
    "        self.shiftDown(1)\n",
    "        return deletedNode\n",
    "    \n",
    "    # for building heap\n",
    "    def buildHeap(self, alist):\n",
    "        i = len(alist) // 2\n",
    "        self.currentSize = len(alist)\n",
    "        self.heap = [0] + alist[:]\n",
    "        while (i > 0):\n",
    "            self.shiftDown(i)\n",
    "            i = i - 1\n",
    "                \n",
    "bh = BinaryHeap()\n",
    "bh.buildHeap([9,5,6,2,3])\n",
    "\n",
    "print('Deleted:',bh.delete())\n",
    "print('Deleted:',bh.delete())\n",
    "print('Deleted:',bh.delete())\n",
    "bh.insert(3)\n",
    "print('Deleted:',bh.delete())"
   ]
  }
 ],
 "metadata": {
  "kernelspec": {
   "display_name": "Python 3 (ipykernel)",
   "language": "python",
   "name": "python3"
  },
  "language_info": {
   "codemirror_mode": {
    "name": "ipython",
    "version": 3
   },
   "file_extension": ".py",
   "mimetype": "text/x-python",
   "name": "python",
   "nbconvert_exporter": "python",
   "pygments_lexer": "ipython3",
   "version": "3.7.13"
  }
 },
 "nbformat": 4,
 "nbformat_minor": 4
}
