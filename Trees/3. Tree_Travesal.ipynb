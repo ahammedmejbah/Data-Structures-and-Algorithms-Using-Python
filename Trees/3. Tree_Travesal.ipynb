{
 "cells": [
  {
   "cell_type": "code",
   "execution_count": 3,
   "id": "f0f2e09d-4799-49cc-aaa2-c22981344ff2",
   "metadata": {},
   "outputs": [
    {
     "name": "stdout",
     "output_type": "stream",
     "text": [
      "Inorder:  1  3  22  32  35  44 \n",
      "Preorder: 1  22 3   44 32  35   \n",
      "Postorder:    3    35 32  44 22 1\n"
     ]
    }
   ],
   "source": [
    "class Node(object):\n",
    "    \"\"\"docstring for Node\"\"\"\n",
    "    def __init__(self, val):\n",
    "        self.key = val\n",
    "        self.left=None\n",
    "        self.right=None\n",
    "\n",
    "\n",
    "class Tree:\n",
    "    \"\"\"docstring for Tree\"\"\"\n",
    "    def __init__(self,val):\n",
    "        self.root = Node(val)\n",
    "        \n",
    "    def insertNode(root,val):\n",
    "        if(root==None):\n",
    "            root=Node(val)\n",
    "        elif(root.key<val):\n",
    "            root.right=Tree.insertNode(root.right,val)\n",
    "        else:\n",
    "            root.left=Tree.insertNode(root.left,val)\n",
    "        return root\n",
    "\n",
    "    def inorder(root):\n",
    "        if(root==None):\n",
    "            return \"\"\n",
    "        else:\n",
    "            return str(Tree.inorder(root.left)) +\" \"+ str(root.key) +\" \"+ str(Tree.inorder(root.right))\n",
    "\n",
    "\n",
    "    def preorder(root):\n",
    "        if(root==None):\n",
    "            return \"\"\n",
    "        else:\n",
    "            return str(root.key) +\" \"+ str(Tree.preorder(root.left)) +\" \"+ str(Tree.preorder(root.right))\n",
    "\n",
    "\n",
    "    def postorder(root):\n",
    "        if(root==None):\n",
    "            return \"\"\n",
    "        else:\n",
    "            return str(Tree.postorder(root.left)) +\" \"+ str(Tree.postorder(root.right)) +\" \"+ str(root.key)\n",
    "\n",
    "\n",
    "\n",
    "\n",
    "array=[1,22,3,44,32,35]\n",
    "treeRoot=Node(array[0])\n",
    "for i in range(1,len(array)):\n",
    "    treeRoot=Tree.insertNode(treeRoot,array[i])\n",
    "\n",
    "print(\"Inorder:\", Tree.inorder(treeRoot))\n",
    "print(\"Preorder:\", Tree.preorder(treeRoot))\n",
    "print(\"Postorder:\", Tree.postorder(treeRoot))\n"
   ]
  },
  {
   "cell_type": "code",
   "execution_count": null,
   "id": "6ce78c83-1fb0-4e46-845a-002fa687b797",
   "metadata": {},
   "outputs": [],
   "source": []
  }
 ],
 "metadata": {
  "kernelspec": {
   "display_name": "Python 3 (ipykernel)",
   "language": "python",
   "name": "python3"
  },
  "language_info": {
   "codemirror_mode": {
    "name": "ipython",
    "version": 3
   },
   "file_extension": ".py",
   "mimetype": "text/x-python",
   "name": "python",
   "nbconvert_exporter": "python",
   "pygments_lexer": "ipython3",
   "version": "3.7.13"
  }
 },
 "nbformat": 4,
 "nbformat_minor": 5
}
