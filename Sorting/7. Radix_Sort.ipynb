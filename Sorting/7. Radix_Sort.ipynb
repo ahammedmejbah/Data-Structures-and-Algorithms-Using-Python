{
 "cells": [
  {
   "cell_type": "code",
   "execution_count": 1,
   "id": "5436466e-9704-4832-aef6-9cf58520cfe4",
   "metadata": {},
   "outputs": [
    {
     "name": "stdout",
     "output_type": "stream",
     "text": [
      "[2608, 2669, 3045, 4168, 6736, 7161, 7513, 7667, 8762, 8783, 9088, 9318, 9514, 10001, 10002, 10560, 10701, 13327, 13580, 15223, 15667, 18084, 23457, 23659, 23694, 24123, 24227, 24406, 24603, 24992, 26752, 26816, 28239, 28310, 29603, 30144, 31421, 32824, 34007, 34110, 34762, 36198, 40042, 40170, 40587, 43633, 44159, 44269, 45008, 46206, 49012, 51940, 52076, 52712, 54323, 55059, 56386, 57064, 57296, 57379, 57914, 58798, 58840, 60496, 61724, 64283, 64323, 65680, 65792, 66110, 67947, 71836, 72113, 72290, 73494, 77253, 77433, 78141, 78628, 79292, 80072, 80429, 83653, 86553, 89447, 89470, 90552, 90695, 91106, 91531, 92115, 94369, 94696, 96213, 97026, 97200, 97409, 97867, 98700, 98740]\n"
     ]
    }
   ],
   "source": [
    "from math import log10\n",
    "from random import randint\n",
    "\n",
    "def get_num(num, base, pos):\n",
    "  return (num // base ** pos) % base\n",
    "\n",
    "def prefix_sum(array):\n",
    "  for i in range(1, len(array)):\n",
    "    array[i] = array[i] + array[i-1]\n",
    "  return array\n",
    "\n",
    "def radixsort(l, base=10):\n",
    "  passes = int(log10(max(l))+1)\n",
    "  output = [0] * len(l)\n",
    "\n",
    "  for pos in range(passes):\n",
    "    count = [0] * base\n",
    "\n",
    "    for i in l:\n",
    "      digit = get_num(i, base, pos)\n",
    "      count[digit] +=1\n",
    "\n",
    "    count = prefix_sum(count)\n",
    "\n",
    "    for i in reversed(l):\n",
    "      digit = get_num(i, base, pos)\n",
    "      count[digit] -= 1\n",
    "      new_pos = count[digit]\n",
    "      output[new_pos] = i\n",
    "\n",
    "    l = list(output)\n",
    "  return output\n",
    "\n",
    "l = [ randint(1, 99999) for x in range(100) ]\n",
    "sorted = radixsort(l)\n",
    "print(sorted)\n",
    "\n"
   ]
  },
  {
   "cell_type": "code",
   "execution_count": null,
   "id": "c183bde8-23b8-4e9d-bc6e-0ed90cb849c5",
   "metadata": {},
   "outputs": [],
   "source": []
  }
 ],
 "metadata": {
  "kernelspec": {
   "display_name": "Python 3 (ipykernel)",
   "language": "python",
   "name": "python3"
  },
  "language_info": {
   "codemirror_mode": {
    "name": "ipython",
    "version": 3
   },
   "file_extension": ".py",
   "mimetype": "text/x-python",
   "name": "python",
   "nbconvert_exporter": "python",
   "pygments_lexer": "ipython3",
   "version": "3.7.13"
  }
 },
 "nbformat": 4,
 "nbformat_minor": 5
}
