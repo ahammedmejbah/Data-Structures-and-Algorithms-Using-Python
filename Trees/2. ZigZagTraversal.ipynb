{
 "cells": [
  {
   "cell_type": "code",
   "execution_count": 1,
   "id": "8807d299-387c-44cd-919f-6875668f1892",
   "metadata": {},
   "outputs": [
    {
     "name": "stdout",
     "output_type": "stream",
     "text": [
      "\n",
      "Zigzag order traversal(iterative) is: \n",
      "1 3 2 4 5 \n"
     ]
    }
   ],
   "source": [
    "class Node:\n",
    "    \"\"\"\n",
    "    A Node has data variable and pointers to its left and right nodes.\n",
    "    \"\"\"\n",
    "\n",
    "    def __init__(self, data):\n",
    "        self.left = None\n",
    "        self.right = None\n",
    "        self.data = data\n",
    "\n",
    "def make_tree() -> Node:\n",
    "    root = Node(1)\n",
    "    root.left = Node(2)\n",
    "    root.right = Node(3)\n",
    "    root.left.left = Node(4)\n",
    "    root.left.right = Node(5)\n",
    "    return root\n",
    "\n",
    "def zigzag_iterative(root: Node):\n",
    "    \"\"\"\n",
    "    ZigZag traverse by iterative method: Print node left to right and right to left, alternatively.\n",
    "    \"\"\"\n",
    "    if root == None: \n",
    "        return \n",
    "  \n",
    "    # two stacks to store alternate levels  \n",
    "    s1 = [] # For levels to be printed from right to left  \n",
    "    s2 = [] # For levels to be printed from left to right  \n",
    "  \n",
    "    # append first level to first stack 's1'  \n",
    "    s1.append(root)  \n",
    "  \n",
    "    # Keep printing while any of the stacks has some nodes  \n",
    "    while not len(s1) == 0 or not len(s2) == 0: \n",
    "          \n",
    "        # Print nodes of current level from s1 and append nodes of next level to s2  \n",
    "        while not len(s1) == 0: \n",
    "            temp = s1[-1]  \n",
    "            s1.pop()  \n",
    "            print(temp.data, end = \" \")  \n",
    "  \n",
    "            # Note that is left is appended before right    \n",
    "            if temp.left: \n",
    "                s2.append(temp.left)\n",
    "            if temp.right:  \n",
    "                s2.append(temp.right)\n",
    "  \n",
    "        # Print nodes of current level from s2 and append nodes of next level to s1  \n",
    "        while not len(s2) == 0: \n",
    "            temp = s2[-1]  \n",
    "            s2.pop()  \n",
    "            print(temp.data, end = \" \")  \n",
    "  \n",
    "            # Note that is rightt is appended before left   \n",
    "            if temp.right:  \n",
    "                s1.append(temp.right)\n",
    "            if temp.left: \n",
    "                s1.append(temp.left)  \n",
    "\n",
    "def main():  # Main function for testing.\n",
    "    \"\"\"\n",
    "    Create binary tree.\n",
    "    \"\"\"\n",
    "    root = make_tree()\n",
    "    print(\"\\nZigzag order traversal(iterative) is: \")\n",
    "    zigzag_iterative(root)\n",
    "    print()\n",
    "\n",
    "\n",
    "if __name__ == \"__main__\":\n",
    "    import doctest\n",
    "\n",
    "    doctest.testmod()\n",
    "    main()\n",
    "    \n",
    "\n"
   ]
  },
  {
   "cell_type": "code",
   "execution_count": null,
   "id": "66d61a05-33f2-41ab-aa7a-a3e3ae522ea0",
   "metadata": {},
   "outputs": [],
   "source": []
  }
 ],
 "metadata": {
  "kernelspec": {
   "display_name": "Python 3 (ipykernel)",
   "language": "python",
   "name": "python3"
  },
  "language_info": {
   "codemirror_mode": {
    "name": "ipython",
    "version": 3
   },
   "file_extension": ".py",
   "mimetype": "text/x-python",
   "name": "python",
   "nbconvert_exporter": "python",
   "pygments_lexer": "ipython3",
   "version": "3.7.13"
  }
 },
 "nbformat": 4,
 "nbformat_minor": 5
}
