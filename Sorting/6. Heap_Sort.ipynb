{
 "cells": [
  {
   "cell_type": "code",
   "execution_count": 1,
   "id": "ee4dd24f-07a0-4759-b619-f59099a5c0bb",
   "metadata": {},
   "outputs": [
    {
     "name": "stdout",
     "output_type": "stream",
     "text": [
      "[8, 12, 35, 43, 51]\n"
     ]
    }
   ],
   "source": [
    "def heapify(nums, heap_size, root_index):\n",
    "    # Assume the index of the largest element is the root index\n",
    "    largest = root_index\n",
    "    left_child = (2 * root_index) + 1\n",
    "    right_child = (2 * root_index) + 2\n",
    "\n",
    "    if left_child < heap_size and nums[left_child] > nums[largest]:\n",
    "        largest = left_child\n",
    "\n",
    "    if right_child < heap_size and nums[right_child] > nums[largest]:\n",
    "        largest = right_child\n",
    "\n",
    "    if largest != root_index:\n",
    "        nums[root_index], nums[largest] = nums[largest], nums[root_index]\n",
    "        # Heapify the new root element to ensure it's the largest\n",
    "        heapify(nums, heap_size, largest)\n",
    "\n",
    "\n",
    "def heap_sort(nums):\n",
    "    n = len(nums)\n",
    "    \n",
    "    for i in range(n, -1, -1):\n",
    "        heapify(nums, n, i)\n",
    "\n",
    "    # Move the root of the max heap to the end of\n",
    "    for i in range(n - 1, 0, -1):\n",
    "        nums[i], nums[0] = nums[0], nums[i]\n",
    "        heapify(nums, i, 0)\n",
    "\n",
    "random_list_of_nums = [35, 12, 43, 8, 51]\n",
    "heap_sort(random_list_of_nums)\n",
    "print(random_list_of_nums)\n",
    "\n"
   ]
  },
  {
   "cell_type": "code",
   "execution_count": null,
   "id": "1455abdc-a341-4067-8a86-7fdf32487980",
   "metadata": {},
   "outputs": [],
   "source": []
  }
 ],
 "metadata": {
  "kernelspec": {
   "display_name": "Python 3 (ipykernel)",
   "language": "python",
   "name": "python3"
  },
  "language_info": {
   "codemirror_mode": {
    "name": "ipython",
    "version": 3
   },
   "file_extension": ".py",
   "mimetype": "text/x-python",
   "name": "python",
   "nbconvert_exporter": "python",
   "pygments_lexer": "ipython3",
   "version": "3.7.13"
  }
 },
 "nbformat": 4,
 "nbformat_minor": 5
}
